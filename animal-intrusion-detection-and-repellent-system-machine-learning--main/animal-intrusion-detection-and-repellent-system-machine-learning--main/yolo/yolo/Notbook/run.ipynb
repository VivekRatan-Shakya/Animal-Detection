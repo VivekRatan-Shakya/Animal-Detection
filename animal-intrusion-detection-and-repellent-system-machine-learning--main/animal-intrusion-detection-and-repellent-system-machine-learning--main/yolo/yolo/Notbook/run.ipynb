{
 "cells": [
  {
   "cell_type": "code",
   "execution_count": null,
   "metadata": {
    "is_executing": true
   },
   "outputs": [],
   "source": [
    "import matplotlib.pyplot as plt\n",
    "import ultralytics\n",
    "import cv2\n",
    "from ultralytics import YOLO\n",
    "import os\n",
    "import numpy as np"
   ]
  },
  {
   "cell_type": "code",
   "execution_count": null,
   "metadata": {
    "is_executing": true
   },
   "outputs": [],
   "source": [
    "\n",
    "model_path='best.pt'\n",
    "model = YOLO(model_path)\n",
    "# results=model.predict(source=0)\n",
    "cap = cv2.VideoCapture(0)\n",
    "# new_width, new_height = 320, 240\n",
    "\n",
    "# # Set the resolution properties\n",
    "# cap.set(cv2.CAP_PROP_FRAME_WIDTH, new_width)\n",
    "# cap.set(cv2.CAP_PROP_FRAME_HEIGHT, new_height)\n",
    "while cap.isOpened():\n",
    "    \n",
    "    ret, frame = cap.read()\n",
    "\n",
    "    results = model.predict(frame,conf=0.7)\n",
    "    \n",
    "    annotated_frame = results[0].plot()\n",
    "    cv2.imshow('YOLO', annotated_frame)\n",
    "    \n",
    "    if cv2.waitKey(10) & 0xFF == ord('q'):\n",
    "        break\n",
    "cap.release()   \n",
    "cv2.destroyAllWindows()"
   ]
  },
  {
   "cell_type": "code",
   "execution_count": null,
   "outputs": [],
   "source": [],
   "metadata": {
    "collapsed": false,
    "is_executing": true
   }
  },
  {
   "cell_type": "code",
   "execution_count": null,
   "outputs": [],
   "source": [],
   "metadata": {
    "collapsed": false,
    "is_executing": true
   }
  },
  {
   "cell_type": "code",
   "execution_count": null,
   "outputs": [],
   "source": [],
   "metadata": {
    "collapsed": false,
    "is_executing": true
   }
  }
 ],
 "metadata": {
  "kernelspec": {
   "display_name": "Python 3",
   "language": "python",
   "name": "python3"
  },
  "language_info": {
   "codemirror_mode": {
    "name": "ipython",
    "version": 3
   },
   "file_extension": ".py",
   "mimetype": "text/x-python",
   "name": "python",
   "nbconvert_exporter": "python",
   "pygments_lexer": "ipython3",
   "version": "3.8.18"
  }
 },
 "nbformat": 4,
 "nbformat_minor": 2
}
